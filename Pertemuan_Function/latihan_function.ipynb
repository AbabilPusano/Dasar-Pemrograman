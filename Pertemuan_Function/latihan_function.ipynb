{
 "cells": [
  {
   "cell_type": "markdown",
   "metadata": {},
   "source": [
    "Nama : Ababil Pusano\n",
    "NIM : J0403231018\n",
    "Email : ababilpusano@apps.ipb.ac.id\n",
    "\n",
    "\n",
    "\n",
    "1. Write a Python function to convert temperature with parameters temperature and scale, that converts a temperature value from one scale ('C' for Celsius, 'F' for Fahrenheit) to the other scale and returns the converted temperature. include proper naming, docstrings, error handlings, and some samples of how to use it."
   ]
  },
  {
   "cell_type": "code",
   "execution_count": 3,
   "metadata": {},
   "outputs": [
    {
     "name": "stdout",
     "output_type": "stream",
     "text": [
      "41.0\n",
      "5.0\n",
      "Skala Tidak Valid: hanya menerima 'C' atau 'F'.\n",
      "None\n"
     ]
    }
   ],
   "source": [
    "def temperature_converter(temp, scale):\n",
    "    \"\"\"Fungsi ini mengkonvert nilai suhu dari celcius ke farenheit atau sebaliknya\n",
    "    \n",
    "    Arguments:\n",
    "        temp (int atau float): Nilai Suhu \n",
    "        scale (str): Skala suhu yang digunakan ('C' untuk Celsius dan 'F' untuk \n",
    "        Fahrenheit)\n",
    "        \n",
    "    Returns:\n",
    "        float: hasil konversi suhu\n",
    "    \n",
    "    Example:\n",
    "        >>> temperature_converter(41, 'F')\n",
    "        5.0\n",
    "        >>> temperature_converter(5, 'C')\n",
    "        41.0\n",
    "    \"\"\"\n",
    "    try:\n",
    "        if scale == 'F':\n",
    "            return (temp - 32) * 5 / 9\n",
    "        elif scale == 'C':\n",
    "            return temp * 9 / 5 + 32\n",
    "        else:\n",
    "            raise ValueError(\"Skala Tidak Diketahui, gunakan 'C' atau 'F'.\")\n",
    "    except ValueError as e:\n",
    "        print(\"Skala Tidak Valid: hanya menerima 'C' atau 'F'.\")\n",
    "        return None\n",
    "    except Exception as e:\n",
    "        print(f\"Error: {e}\")\n",
    "        return None\n",
    "        \n",
    "\n",
    "print(temperature_converter(5, 'C')) # Output: 41.0\n",
    "print(temperature_converter(41, 'F')) # Output: 5.0\n",
    "print(temperature_converter(5, 'K')) # Output: Skala Tidak Valid: hanya menerima 'C' atau 'F'."
   ]
  },
  {
   "cell_type": "markdown",
   "metadata": {},
   "source": [
    "Create a calculator-like function that accepts a variable number of arguments and an operator parameter to perform arithmetic operations on those arguments. Include proper naming, docstrings, error handlings, and some samples of how to use it"
   ]
  },
  {
   "cell_type": "code",
   "execution_count": 4,
   "metadata": {},
   "outputs": [
    {
     "name": "stdout",
     "output_type": "stream",
     "text": [
      "6\n",
      "-6\n",
      "0\n",
      "36\n",
      "Invalid operator: Z\n",
      "None\n"
     ]
    }
   ],
   "source": [
    "def kalkulator(*angka, operator):\n",
    "    \"\"\"Fungsi ini menjalankan operasi aritmetika pada angka yang diberikan\n",
    "    \n",
    "    Arguments:\n",
    "        angka (int atau float): Angka yang akan dioperasikan\n",
    "        operator (str): Operator yang digunakan\n",
    "        \n",
    "    Returns:\n",
    "        int atau float: Hasil dari operasi\n",
    "    \n",
    "    Example:\n",
    "        >>> kalkulator(0, 1, 2, 3, operator='+')\n",
    "        6\n",
    "        >>> kalkulator(0, 1, 2, 3, operator='-')\n",
    "        -6\n",
    "    \"\"\"\n",
    "    try:\n",
    "        hasil = angka[0]\n",
    "        for i in range(1, len(angka)):\n",
    "            hasil = eval(f\"{hasil} {operator} {angka[i]}\") \n",
    "        return hasil\n",
    "    except SyntaxError:\n",
    "        print(\"Invalid operator:\", operator)\n",
    "    except Exception as e:\n",
    "        print(f\"Error: {e}\")\n",
    "\n",
    "print(kalkulator(0, 1, 2, 3, operator='+')) # Output: 6\n",
    "print(kalkulator(0, 1, 2, 3, operator='-')) # Output: -6\n",
    "print(kalkulator(0, 1, 2, 3, operator='*')) # Output: 0\n",
    "# print(kalkulator(0, 1, 2, 3, operator='/'))\n",
    "# print(kalkulator(0, 1, 2, 3, operator='**'))\n",
    "# print(kalkulator(0, 1, 2, 3, operator='//'))\n",
    "# print(kalkulator(0, 1, 2, 3, operator='%'))\n",
    "# print(kalkulator(0, 1, 2, 3, operator='&'))\n",
    "# print(kalkulator(0, 1, 2, 3, operator='>>'))\n",
    "# print(kalkulator(0, 1, 2, 3, operator='<<'))\n",
    "# print(kalkulator(0, 1, 2, 3, operator='^'))\n",
    "\n",
    "jumlah_angka = kalkulator(0, 1, 2, 3, operator='+')\n",
    "perkalian_angka = kalkulator(jumlah_angka, jumlah_angka, operator='*')\n",
    "print(perkalian_angka) # Output: 36\n",
    "\n",
    "print(kalkulator(0, 1, 2, 3, operator='Z')) # Output: Invalid operator: Z"
   ]
  }
 ],
 "metadata": {
  "kernelspec": {
   "display_name": "Python 3",
   "language": "python",
   "name": "python3"
  },
  "language_info": {
   "codemirror_mode": {
    "name": "ipython",
    "version": 3
   },
   "file_extension": ".py",
   "mimetype": "text/x-python",
   "name": "python",
   "nbconvert_exporter": "python",
   "pygments_lexer": "ipython3",
   "version": "3.11.5"
  }
 },
 "nbformat": 4,
 "nbformat_minor": 2
}
